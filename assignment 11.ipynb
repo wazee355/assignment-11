{
 "cells": [
  {
   "cell_type": "markdown",
   "id": "5f55097e",
   "metadata": {},
   "source": [
    "1. Create an assert statement that throws an AssertionError if the variable spam is a negative integer.\n",
    "\n",
    "try:\n",
    "    x= 10\n",
    "    y =0\n",
    "    assert y! == 0,\"dividing by zero: invalid input is given\"\n",
    "    print(x/y)       "
   ]
  },
  {
   "cell_type": "markdown",
   "id": "b3ae6529",
   "metadata": {},
   "source": [
    "2. Write an assert statement that triggers an AssertionError if the variables eggs and bacon contain strings that are the same as each other, even if their cases are different (that is, hello and hello are considered the same, and goodbye and GOODbye are also considered the same).\n",
    "\n",
    "Answer- assert(eggs.lower())!= bacon.lower(),'the eggs and the bacon variables are same!') or or assert (eggs.upper()!= bacon.upper(),'the eggs and the bacon variable are same!')\n"
   ]
  },
  {
   "cell_type": "markdown",
   "id": "e5404416",
   "metadata": {},
   "source": [
    "3. Create an assert statement that throws an AssertionError every time.\n",
    "\n",
    "Answer- assert False, ' This assertion always triggers.'"
   ]
  },
  {
   "cell_type": "markdown",
   "id": "30fe878f",
   "metadata": {},
   "source": [
    "4. What are the two lines that must be present in your software in order to call logging.debug()?\n",
    "\n",
    "Answer- To be able to call logging.debug()\n",
    "\n",
    " import logging\n",
    " logging.basicConfig(level=logging.DEBUG, format= '%(asctime)s, %(levelname)s, %(message)s')"
   ]
  },
  {
   "cell_type": "markdown",
   "id": "c5c54672",
   "metadata": {},
   "source": [
    "5. What are the two lines that your program must have in order to have logging.debug() send a logging message to a file named programLog.txt?\n",
    "\n",
    "Answer- import logging\n",
    "logging.basicConfig(filename='programLog.txt', level=logging.DEBUG, format= '%(asctime)s, %(levelname)s, %(message)s')"
   ]
  },
  {
   "cell_type": "markdown",
   "id": "0ee3e538",
   "metadata": {},
   "source": [
    "6. What are the five levels of logging?\n",
    "\n",
    "Answer- Five levels of logging are-  Debug,Info,Warning, Error and Critical"
   ]
  },
  {
   "cell_type": "markdown",
   "id": "b5d4f314",
   "metadata": {},
   "source": [
    "7. What line of code would you add to your software to disable all logging messages?\n",
    "\n",
    "Answer- TO disable all logging messages:\n",
    "logging.disable(logging.CRITICAL)"
   ]
  },
  {
   "cell_type": "markdown",
   "id": "1157acf9",
   "metadata": {},
   "source": [
    "8.Why is using logging messages better than using print() to display the same message?\n",
    "\n",
    "Answer- we can on or off logging messages without removing logging function calls. We can selectively disable lower level logging messages."
   ]
  },
  {
   "cell_type": "markdown",
   "id": "7f1ade1a",
   "metadata": {},
   "source": [
    "9. What are the differences between the Step Over, Step In, and Step Out buttons in the debugger?\n",
    "\n",
    "Answer- The step button will move the debugger into a function call. The over button will quickly execute the function call without stepping into it. The Out button will quickly execute the rest of the code until it steps out of the function it currently is in."
   ]
  },
  {
   "cell_type": "markdown",
   "id": "f60e5965",
   "metadata": {},
   "source": [
    "10.After you click Continue, when will the debugger stop ?\n",
    "\n",
    "Answer- After click COntinue, the debugger will stop when it has reached the end of the program or a line with a breakpoint."
   ]
  },
  {
   "cell_type": "markdown",
   "id": "3c710b46",
   "metadata": {},
   "source": [
    "11. What is the concept of a breakpoint?\n",
    "\n",
    "Answer- A breakpoint is an ntentional or pausing place in a program, put in place for debugging purpose."
   ]
  },
  {
   "cell_type": "code",
   "execution_count": null,
   "id": "38be3f31",
   "metadata": {},
   "outputs": [],
   "source": []
  }
 ],
 "metadata": {
  "kernelspec": {
   "display_name": "Python 3 (ipykernel)",
   "language": "python",
   "name": "python3"
  },
  "language_info": {
   "codemirror_mode": {
    "name": "ipython",
    "version": 3
   },
   "file_extension": ".py",
   "mimetype": "text/x-python",
   "name": "python",
   "nbconvert_exporter": "python",
   "pygments_lexer": "ipython3",
   "version": "3.9.7"
  }
 },
 "nbformat": 4,
 "nbformat_minor": 5
}
